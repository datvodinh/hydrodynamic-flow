{
  "nbformat": 4,
  "nbformat_minor": 0,
  "metadata": {
    "colab": {
      "provenance": [],
      "authorship_tag": "ABX9TyPkupeB8Eri/UnlihFfuilo",
      "include_colab_link": true
    },
    "kernelspec": {
      "name": "python3",
      "display_name": "Python 3"
    },
    "language_info": {
      "name": "python"
    }
  },
  "cells": [
    {
      "cell_type": "markdown",
      "metadata": {
        "id": "view-in-github",
        "colab_type": "text"
      },
      "source": [
        "<a href=\"https://colab.research.google.com/github/datvodinh/hydrodynamic-flow/blob/master/Flow.ipynb\" target=\"_parent\"><img src=\"https://colab.research.google.com/assets/colab-badge.svg\" alt=\"Open In Colab\"/></a>"
      ]
    },
    {
      "cell_type": "code",
      "execution_count": 1,
      "metadata": {
        "colab": {
          "base_uri": "https://localhost:8080/"
        },
        "id": "z4ZwiBResGCc",
        "outputId": "25c48fc7-0a43-4cff-ece0-6f82f04e17cb"
      },
      "outputs": [
        {
          "output_type": "stream",
          "name": "stdout",
          "text": [
            "Cloning into 'hydrodynamic-flow'...\n",
            "remote: Enumerating objects: 12, done.\u001b[K\n",
            "remote: Counting objects: 100% (12/12), done.\u001b[K\n",
            "remote: Compressing objects: 100% (10/10), done.\u001b[K\n",
            "remote: Total 12 (delta 2), reused 8 (delta 2), pack-reused 0\u001b[K\n",
            "Receiving objects: 100% (12/12), 8.95 KiB | 8.95 MiB/s, done.\n",
            "Resolving deltas: 100% (2/2), done.\n"
          ]
        }
      ],
      "source": [
        "!git clone https://github.com/datvodinh/hydrodynamic-flow.git"
      ]
    },
    {
      "cell_type": "code",
      "source": [
        "%cd hydrodynamic-flow/"
      ],
      "metadata": {
        "colab": {
          "base_uri": "https://localhost:8080/"
        },
        "id": "NJ7bRdkrviX3",
        "outputId": "b7fef16a-f465-4366-de6c-8ea2287e57d0"
      },
      "execution_count": 2,
      "outputs": [
        {
          "output_type": "stream",
          "name": "stdout",
          "text": [
            "/content/hydrodynamic-flow\n"
          ]
        }
      ]
    },
    {
      "cell_type": "code",
      "source": [
        "!make flow"
      ],
      "metadata": {
        "colab": {
          "base_uri": "https://localhost:8080/"
        },
        "id": "TkmWgPj9vtgP",
        "outputId": "d0bead78-b5b4-419d-b478-75540f7606a1"
      },
      "execution_count": 3,
      "outputs": [
        {
          "output_type": "stream",
          "name": "stdout",
          "text": [
            "cc -o flow_c src/flow.c\n"
          ]
        }
      ]
    },
    {
      "cell_type": "code",
      "source": [
        "!./flow_c"
      ],
      "metadata": {
        "colab": {
          "base_uri": "https://localhost:8080/"
        },
        "id": "f88UyZ7qvv9x",
        "outputId": "3c4f3b06-5c27-42b6-e1b6-67519acfa0d1"
      },
      "execution_count": 4,
      "outputs": [
        {
          "output_type": "stream",
          "name": "stdout",
          "text": [
            "Running: 1000 / 10000 ... \n",
            "Running: 2000 / 10000 ... \n",
            "Running: 3000 / 10000 ... \n",
            "Running: 4000 / 10000 ... \n",
            "Running: 5000 / 10000 ... \n",
            "Running: 6000 / 10000 ... \n",
            "Running: 7000 / 10000 ... \n",
            "Running: 8000 / 10000 ... \n",
            "Running: 9000 / 10000 ... \n",
            "Running: 10000 / 10000 ... \n",
            "Running time for serial code: 8.367422\n"
          ]
        }
      ]
    },
    {
      "cell_type": "code",
      "source": [
        "!make flow_cuda"
      ],
      "metadata": {
        "colab": {
          "base_uri": "https://localhost:8080/"
        },
        "id": "aA0aO2HGvzvO",
        "outputId": "839d0b13-7f75-4ce4-d32f-fe7d065c0d35"
      },
      "execution_count": 5,
      "outputs": [
        {
          "output_type": "stream",
          "name": "stdout",
          "text": [
            "nvcc -o flow_cuda src/flow.cu\n"
          ]
        }
      ]
    },
    {
      "cell_type": "code",
      "source": [
        "!./flow_cuda"
      ],
      "metadata": {
        "colab": {
          "base_uri": "https://localhost:8080/"
        },
        "id": "08ozWg57v6_s",
        "outputId": "54b5db4e-dcb6-4aad-fdf0-f27aad28581c"
      },
      "execution_count": 6,
      "outputs": [
        {
          "output_type": "stream",
          "name": "stdout",
          "text": [
            "Running: 1000 / 10000 ... \n",
            "Running: 2000 / 10000 ... \n",
            "Running: 3000 / 10000 ... \n",
            "Running: 4000 / 10000 ... \n",
            "Running: 5000 / 10000 ... \n",
            "Running: 6000 / 10000 ... \n",
            "Running: 7000 / 10000 ... \n",
            "Running: 8000 / 10000 ... \n",
            "Running: 9000 / 10000 ... \n",
            "Running: 10000 / 10000 ... \n",
            "Running time for CUDA code: 0.046023\n"
          ]
        }
      ]
    },
    {
      "cell_type": "code",
      "source": [],
      "metadata": {
        "id": "wtmRuzLcv8ul"
      },
      "execution_count": null,
      "outputs": []
    }
  ]
}